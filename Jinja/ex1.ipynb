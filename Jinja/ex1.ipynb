{
 "cells": [
  {
   "cell_type": "code",
   "execution_count": 1,
   "metadata": {},
   "outputs": [
    {
     "name": "stdout",
     "output_type": "stream",
     "text": [
      "Как дела Кирилл\n"
     ]
    }
   ],
   "source": [
    "from jinja2 import Template\n",
    "\n",
    "name = \"Кирилл\"\n",
    "\n",
    "tm = Template(\"Как дела {{  name  }}\")\n",
    "msg = tm.render(name=name)\n",
    "\n",
    "print(msg)"
   ]
  },
  {
   "cell_type": "code",
   "execution_count": 2,
   "metadata": {},
   "outputs": [
    {
     "name": "stdout",
     "output_type": "stream",
     "text": [
      "Мне 56 лет и зовут ФЕДОР.\n"
     ]
    }
   ],
   "source": [
    "name = \"Федор\"\n",
    "age = 28\n",
    "\n",
    "tm = Template(\"Мне {{a*2}} лет и зовут {{ n.upper() }}.\")\n",
    "msg = tm.render(a=age, n=name)\n",
    "\n",
    "print(msg)"
   ]
  },
  {
   "cell_type": "code",
   "execution_count": 4,
   "metadata": {},
   "outputs": [
    {
     "name": "stdout",
     "output_type": "stream",
     "text": [
      "Мне 31 лет и зовут Jon.\n"
     ]
    }
   ],
   "source": [
    "class Person:\n",
    "    def __init__(self, name, age):\n",
    "        self.name = name\n",
    "        self.age = age\n",
    "per = Person(\"Jon\", 31)\n",
    "tm = Template(\"Мне {{p.age}} лет и зовут {{ p.name }}.\")\n",
    "msg = tm.render(p=per)\n",
    "\n",
    "print(msg)"
   ]
  },
  {
   "cell_type": "code",
   "execution_count": 5,
   "metadata": {},
   "outputs": [
    {
     "name": "stdout",
     "output_type": "stream",
     "text": [
      "Мне 31 лет и зовут Jon.\n"
     ]
    }
   ],
   "source": [
    "class Person:\n",
    "    def __init__(self, name, age):\n",
    "        self.name = name\n",
    "        self.age = age\n",
    "    def getName(self):\n",
    "        return self.name\n",
    "    def getAge(self):\n",
    "        return self.age\n",
    "        \n",
    "per = Person(\"Jon\", 31)\n",
    "tm = Template(\"Мне {{p.getAge()}} лет и зовут {{ p.getName() }}.\")\n",
    "msg = tm.render(p=per)\n",
    "\n",
    "print(msg)"
   ]
  },
  {
   "cell_type": "code",
   "execution_count": 7,
   "metadata": {},
   "outputs": [
    {
     "name": "stdout",
     "output_type": "stream",
     "text": [
      "Мне 34 лет и зовут Федор.\n"
     ]
    }
   ],
   "source": [
    "per = { 'name': 'Федор', 'age': 34 }\n",
    "\n",
    "tm = Template(\"Мне {{p.age}} лет и зовут {{ p.name }}.\")\n",
    "msg = tm.render(p=per)\n",
    "\n",
    "print(msg)"
   ]
  },
  {
   "cell_type": "code",
   "execution_count": 8,
   "metadata": {},
   "outputs": [
    {
     "name": "stdout",
     "output_type": "stream",
     "text": [
      "Модуль Jinja вместо\n",
      "определения Федор\n",
      "подставляет соответствующее значение\n"
     ]
    }
   ],
   "source": [
    "from jinja2 import Template\n",
    " \n",
    "data = '''Модуль Jinja вместо\n",
    "определения {{ name }}\n",
    "подставляет соответствующее значение'''\n",
    " \n",
    "tm = Template(data)\n",
    "msg = tm.render(name='Федор')\n",
    " \n",
    "print(msg)"
   ]
  },
  {
   "cell_type": "code",
   "execution_count": 9,
   "metadata": {},
   "outputs": [
    {
     "name": "stdout",
     "output_type": "stream",
     "text": [
      "Модуль Jinja вместо\n",
      "определения {{ name }}\n",
      "подставляет соответствующее значение\n"
     ]
    }
   ],
   "source": [
    "from jinja2 import Template\n",
    " \n",
    "data = '''{% raw %}Модуль Jinja вместо\n",
    "определения {{ name }}\n",
    "подставляет соответствующее значение{% endraw %}'''\n",
    " \n",
    "tm = Template(data)\n",
    "msg = tm.render(name='Федор')\n",
    " \n",
    "print(msg)"
   ]
  },
  {
   "cell_type": "code",
   "execution_count": 10,
   "metadata": {},
   "outputs": [
    {
     "name": "stdout",
     "output_type": "stream",
     "text": [
      "В HTML-документе ссылки определяются так: \n",
      "<a href=\"#\">Ссылка</a>\n"
     ]
    }
   ],
   "source": [
    "link = '''В HTML-документе ссылки определяются так: \n",
    "<a href=\"#\">Ссылка</a>'''\n",
    " \n",
    "tm = Template(\"{{ link }}\")\n",
    "msg = tm.render(link = link)\n",
    " \n",
    "print(msg)"
   ]
  },
  {
   "cell_type": "code",
   "execution_count": 11,
   "metadata": {},
   "outputs": [
    {
     "name": "stdout",
     "output_type": "stream",
     "text": [
      "В HTML-документе ссылки определяются так: \n",
      "&lt;a href=&#34;#&#34;&gt;Ссылка&lt;/a&gt;\n"
     ]
    }
   ],
   "source": [
    "link = '''В HTML-документе ссылки определяются так: \n",
    "<a href=\"#\">Ссылка</a>'''\n",
    "\n",
    "tm = Template(\"{{link | e}}\")\n",
    "msg = tm.render(link = link)\n",
    "\n",
    "print(msg)"
   ]
  },
  {
   "cell_type": "code",
   "execution_count": 14,
   "metadata": {},
   "outputs": [
    {
     "name": "stdout",
     "output_type": "stream",
     "text": [
      "В HTML-документе ссылки определяются так: \n",
      "&lt;a href=&#34;#&#34;&gt;Ссылка&lt;/a&gt;\n"
     ]
    }
   ],
   "source": [
    "from jinja2 import Template\n",
    "from markupsafe import escape\n",
    "\n",
    "link = '''В HTML-документе ссылки определяются так: \n",
    "<a href=\"#\">Ссылка</a>'''\n",
    "\n",
    "print(escape(link))"
   ]
  },
  {
   "cell_type": "code",
   "execution_count": 5,
   "metadata": {},
   "outputs": [
    {
     "name": "stdout",
     "output_type": "stream",
     "text": [
      "<select name=\"cities\">\n",
      "<option value=\"1\">Москва</option>\n",
      "<option value=\"5\">Тверь</option>\n",
      "<option value=\"7\">Минск</option>\n",
      "<option value=\"8\">Смоленск</option>\n",
      "<option value=\"11\">Калуга</option>\n",
      "</select>\n"
     ]
    }
   ],
   "source": [
    "from jinja2 import Template\n",
    "cities = [{'id': 1, 'city': 'Москва'},\n",
    "    {'id': 5, 'city': 'Тверь'},\n",
    "    {'id': 7, 'city': 'Минск'},\n",
    "    {'id': 8, 'city': 'Смоленск'},\n",
    "    {'id': 11, 'city': 'Калуга'}]\n",
    "     \n",
    "link = '''<select name=\"cities\">\n",
    "{% for c in cities -%}\n",
    "    <option value=\"{{c['id']}}\">{{c['city']}}</option>\n",
    "{% endfor -%}\n",
    "</select>'''\n",
    "\n",
    "tm = Template(link)\n",
    "msg = tm.render(cities = cities)\n",
    "\n",
    "print(msg)"
   ]
  },
  {
   "cell_type": "code",
   "execution_count": 6,
   "metadata": {},
   "outputs": [
    {
     "name": "stdout",
     "output_type": "stream",
     "text": [
      "<select name=\"cities\">\n",
      "<option>Москва</option>\n",
      "Тверь\n",
      "<option value=\"7\">Минск</option>\n",
      "<option value=\"8\">Смоленск</option>\n",
      "<option value=\"11\">Калуга</option>\n",
      "</select>\n"
     ]
    }
   ],
   "source": [
    "from jinja2 import Template\n",
    "\n",
    "cities = [{'id': 1, 'city': 'Москва'},\n",
    "    {'id': 5, 'city': 'Тверь'},\n",
    "    {'id': 7, 'city': 'Минск'},\n",
    "    {'id': 8, 'city': 'Смоленск'},\n",
    "    {'id': 11, 'city': 'Калуга'}]\n",
    "\n",
    "link = '''<select name=\"cities\">\n",
    "{% for c in cities -%}\n",
    "{% if c.id > 6 -%}\n",
    "    <option value=\"{{c['id']}}\">{{c['city']}}</option>\n",
    "{%elif c.city == \"Москва\" -%}\n",
    "    <option>{{c['city']}}</option>\n",
    "{%else -%}\n",
    "    {{c['city']}}\n",
    "{% endif -%}\n",
    "{% endfor -%}\n",
    "</select>'''\n",
    "\n",
    "tm = Template(link)\n",
    "msg = tm.render(cities = cities)\n",
    "\n",
    "print(msg)"
   ]
  }
 ],
 "metadata": {
  "kernelspec": {
   "display_name": "Python 3.10.5 ('wbig_env': venv)",
   "language": "python",
   "name": "python3"
  },
  "language_info": {
   "codemirror_mode": {
    "name": "ipython",
    "version": 3
   },
   "file_extension": ".py",
   "mimetype": "text/x-python",
   "name": "python",
   "nbconvert_exporter": "python",
   "pygments_lexer": "ipython3",
   "version": "3.10.5"
  },
  "orig_nbformat": 4,
  "vscode": {
   "interpreter": {
    "hash": "751c6c3d0f355ec1bcdfbb47f6cc594504132554fae55e9cb85a64287e766bba"
   }
  }
 },
 "nbformat": 4,
 "nbformat_minor": 2
}
