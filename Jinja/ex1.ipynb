{
 "cells": [
  {
   "cell_type": "code",
   "execution_count": 1,
   "metadata": {},
   "outputs": [
    {
     "name": "stdout",
     "output_type": "stream",
     "text": [
      "Как дела Кирилл\n"
     ]
    }
   ],
   "source": [
    "from jinja2 import Template\n",
    "\n",
    "name = \"Кирилл\"\n",
    "\n",
    "tm = Template(\"Как дела {{  name  }}\")\n",
    "msg = tm.render(name=name)\n",
    "\n",
    "print(msg)"
   ]
  },
  {
   "cell_type": "code",
   "execution_count": 2,
   "metadata": {},
   "outputs": [
    {
     "name": "stdout",
     "output_type": "stream",
     "text": [
      "Мне 56 лет и зовут ФЕДОР.\n"
     ]
    }
   ],
   "source": [
    "name = \"Федор\"\n",
    "age = 28\n",
    "\n",
    "tm = Template(\"Мне {{a*2}} лет и зовут {{ n.upper() }}.\")\n",
    "msg = tm.render(a=age, n=name)\n",
    "\n",
    "print(msg)"
   ]
  },
  {
   "cell_type": "code",
   "execution_count": 4,
   "metadata": {},
   "outputs": [
    {
     "name": "stdout",
     "output_type": "stream",
     "text": [
      "Мне 31 лет и зовут Jon.\n"
     ]
    }
   ],
   "source": [
    "class Person:\n",
    "    def __init__(self, name, age):\n",
    "        self.name = name\n",
    "        self.age = age\n",
    "per = Person(\"Jon\", 31)\n",
    "tm = Template(\"Мне {{p.age}} лет и зовут {{ p.name }}.\")\n",
    "msg = tm.render(p=per)\n",
    "\n",
    "print(msg)"
   ]
  },
  {
   "cell_type": "code",
   "execution_count": 5,
   "metadata": {},
   "outputs": [
    {
     "name": "stdout",
     "output_type": "stream",
     "text": [
      "Мне 31 лет и зовут Jon.\n"
     ]
    }
   ],
   "source": [
    "class Person:\n",
    "    def __init__(self, name, age):\n",
    "        self.name = name\n",
    "        self.age = age\n",
    "    def getName(self):\n",
    "        return self.name\n",
    "    def getAge(self):\n",
    "        return self.age\n",
    "        \n",
    "per = Person(\"Jon\", 31)\n",
    "tm = Template(\"Мне {{p.getAge()}} лет и зовут {{ p.getName() }}.\")\n",
    "msg = tm.render(p=per)\n",
    "\n",
    "print(msg)"
   ]
  },
  {
   "cell_type": "code",
   "execution_count": 7,
   "metadata": {},
   "outputs": [
    {
     "name": "stdout",
     "output_type": "stream",
     "text": [
      "Мне 34 лет и зовут Федор.\n"
     ]
    }
   ],
   "source": [
    "per = { 'name': 'Федор', 'age': 34 }\n",
    "\n",
    "tm = Template(\"Мне {{p.age}} лет и зовут {{ p.name }}.\")\n",
    "msg = tm.render(p=per)\n",
    "\n",
    "print(msg)"
   ]
  },
  {
   "cell_type": "code",
   "execution_count": 8,
   "metadata": {},
   "outputs": [
    {
     "name": "stdout",
     "output_type": "stream",
     "text": [
      "Модуль Jinja вместо\n",
      "определения Федор\n",
      "подставляет соответствующее значение\n"
     ]
    }
   ],
   "source": [
    "from jinja2 import Template\n",
    " \n",
    "data = '''Модуль Jinja вместо\n",
    "определения {{ name }}\n",
    "подставляет соответствующее значение'''\n",
    " \n",
    "tm = Template(data)\n",
    "msg = tm.render(name='Федор')\n",
    " \n",
    "print(msg)"
   ]
  },
  {
   "cell_type": "code",
   "execution_count": 9,
   "metadata": {},
   "outputs": [
    {
     "name": "stdout",
     "output_type": "stream",
     "text": [
      "Модуль Jinja вместо\n",
      "определения {{ name }}\n",
      "подставляет соответствующее значение\n"
     ]
    }
   ],
   "source": [
    "from jinja2 import Template\n",
    " \n",
    "data = '''{% raw %}Модуль Jinja вместо\n",
    "определения {{ name }}\n",
    "подставляет соответствующее значение{% endraw %}'''\n",
    " \n",
    "tm = Template(data)\n",
    "msg = tm.render(name='Федор')\n",
    " \n",
    "print(msg)"
   ]
  },
  {
   "cell_type": "code",
   "execution_count": 10,
   "metadata": {},
   "outputs": [
    {
     "name": "stdout",
     "output_type": "stream",
     "text": [
      "В HTML-документе ссылки определяются так: \n",
      "<a href=\"#\">Ссылка</a>\n"
     ]
    }
   ],
   "source": [
    "link = '''В HTML-документе ссылки определяются так: \n",
    "<a href=\"#\">Ссылка</a>'''\n",
    " \n",
    "tm = Template(\"{{ link }}\")\n",
    "msg = tm.render(link = link)\n",
    " \n",
    "print(msg)"
   ]
  },
  {
   "cell_type": "code",
   "execution_count": 11,
   "metadata": {},
   "outputs": [
    {
     "name": "stdout",
     "output_type": "stream",
     "text": [
      "В HTML-документе ссылки определяются так: \n",
      "&lt;a href=&#34;#&#34;&gt;Ссылка&lt;/a&gt;\n"
     ]
    }
   ],
   "source": [
    "link = '''В HTML-документе ссылки определяются так: \n",
    "<a href=\"#\">Ссылка</a>'''\n",
    "\n",
    "tm = Template(\"{{link | e}}\")\n",
    "msg = tm.render(link = link)\n",
    "\n",
    "print(msg)"
   ]
  },
  {
   "cell_type": "code",
   "execution_count": 14,
   "metadata": {},
   "outputs": [
    {
     "name": "stdout",
     "output_type": "stream",
     "text": [
      "В HTML-документе ссылки определяются так: \n",
      "&lt;a href=&#34;#&#34;&gt;Ссылка&lt;/a&gt;\n"
     ]
    }
   ],
   "source": [
    "from jinja2 import Template\n",
    "from markupsafe import escape\n",
    "\n",
    "link = '''В HTML-документе ссылки определяются так: \n",
    "<a href=\"#\">Ссылка</a>'''\n",
    "\n",
    "print(escape(link))"
   ]
  },
  {
   "cell_type": "code",
   "execution_count": 5,
   "metadata": {},
   "outputs": [
    {
     "name": "stdout",
     "output_type": "stream",
     "text": [
      "<select name=\"cities\">\n",
      "<option value=\"1\">Москва</option>\n",
      "<option value=\"5\">Тверь</option>\n",
      "<option value=\"7\">Минск</option>\n",
      "<option value=\"8\">Смоленск</option>\n",
      "<option value=\"11\">Калуга</option>\n",
      "</select>\n"
     ]
    }
   ],
   "source": [
    "from jinja2 import Template\n",
    "cities = [{'id': 1, 'city': 'Москва'},\n",
    "    {'id': 5, 'city': 'Тверь'},\n",
    "    {'id': 7, 'city': 'Минск'},\n",
    "    {'id': 8, 'city': 'Смоленск'},\n",
    "    {'id': 11, 'city': 'Калуга'}]\n",
    "     \n",
    "link = '''<select name=\"cities\">\n",
    "{% for c in cities -%}\n",
    "    <option value=\"{{c['id']}}\">{{c['city']}}</option>\n",
    "{% endfor -%}\n",
    "</select>'''\n",
    "\n",
    "tm = Template(link)\n",
    "msg = tm.render(cities = cities)\n",
    "\n",
    "print(msg)"
   ]
  },
  {
   "cell_type": "code",
   "execution_count": 6,
   "metadata": {},
   "outputs": [
    {
     "name": "stdout",
     "output_type": "stream",
     "text": [
      "<select name=\"cities\">\n",
      "<option>Москва</option>\n",
      "Тверь\n",
      "<option value=\"7\">Минск</option>\n",
      "<option value=\"8\">Смоленск</option>\n",
      "<option value=\"11\">Калуга</option>\n",
      "</select>\n"
     ]
    }
   ],
   "source": [
    "from jinja2 import Template\n",
    "\n",
    "cities = [{'id': 1, 'city': 'Москва'},\n",
    "    {'id': 5, 'city': 'Тверь'},\n",
    "    {'id': 7, 'city': 'Минск'},\n",
    "    {'id': 8, 'city': 'Смоленск'},\n",
    "    {'id': 11, 'city': 'Калуга'}]\n",
    "\n",
    "link = '''<select name=\"cities\">\n",
    "{% for c in cities -%}\n",
    "{% if c.id > 6 -%}\n",
    "    <option value=\"{{c['id']}}\">{{c['city']}}</option>\n",
    "{%elif c.city == \"Москва\" -%}\n",
    "    <option>{{c['city']}}</option>\n",
    "{%else -%}\n",
    "    {{c['city']}}\n",
    "{% endif -%}\n",
    "{% endfor -%}\n",
    "</select>'''\n",
    "\n",
    "tm = Template(link)\n",
    "msg = tm.render(cities = cities)\n",
    "\n",
    "print(msg)"
   ]
  },
  {
   "cell_type": "code",
   "execution_count": 15,
   "metadata": {},
   "outputs": [
    {
     "name": "stdout",
     "output_type": "stream",
     "text": [
      "Суммарная цена автомобилей 105900\n"
     ]
    }
   ],
   "source": [
    "from jinja2 import Template\n",
    "\n",
    "cars = [\n",
    "    {'model': 'Ауди', 'price': 23000},\n",
    "    {'model': 'Шкода', 'price': 17300},\n",
    "    {'model': 'Вольво', 'price': 44300},\n",
    "    {'model': 'Фольксваген', 'price': 21300}\n",
    "]\n",
    "\n",
    "tpl = \"Суммарная цена автомобилей {{ cs | sum(attribute='price') }}\"\n",
    "tm = Template(tpl)\n",
    "msg = tm.render(cs = cars)\n",
    "print(msg)"
   ]
  },
  {
   "cell_type": "code",
   "execution_count": 1,
   "metadata": {},
   "outputs": [
    {
     "name": "stdout",
     "output_type": "stream",
     "text": [
      "АЛЕКСЕЙ\n",
      "НИКОЛАЙ\n",
      "ИВАН\n",
      "\n"
     ]
    }
   ],
   "source": [
    "from jinja2 import Template\n",
    "\n",
    "persons = [\n",
    "    {\"name\": \"Алексей\", \"old\": 18, \"weight\": 78.5},\n",
    "    {\"name\": \"Николай\", \"old\": 28, \"weight\": 82.3},\n",
    "    {\"name\": \"Иван\", \"old\": 33, \"weight\": 94.0}\n",
    "]\n",
    " \n",
    "tpl = '''\n",
    "{%- for u in users -%}\n",
    "{% filter upper %}{{u.name}}{% endfilter %}\n",
    "{% endfor -%}\n",
    "'''\n",
    " \n",
    "tm = Template(tpl)\n",
    "msg = tm.render(users = persons)\n",
    " \n",
    "print(msg)"
   ]
  },
  {
   "cell_type": "code",
   "execution_count": 2,
   "metadata": {},
   "outputs": [
    {
     "name": "stdout",
     "output_type": "stream",
     "text": [
      "\n",
      "\n",
      "\n",
      "<input type=\"text\" name=\"username\" value=\"\" size=\"20\">\n",
      "<input type=\"text\" name=\"email\" value=\"\" size=\"20\">\n",
      "<input type=\"text\" name=\"password\" value=\"\" size=\"20\">\n"
     ]
    }
   ],
   "source": [
    "from jinja2 import Template\n",
    "tml = '''\n",
    "{% macro input(name, value='', type='text', size=20) -%}\n",
    "    <input type=\"{{ type }}\" name=\"{{ name }}\" value=\"{{ value|e }}\" size=\"{{ size }}\">\n",
    "{%- endmacro %}\n",
    "\n",
    "{{ input('username') }}\n",
    "{{ input('email') }}\n",
    "{{ input('password') }}\n",
    "'''\n",
    "\n",
    "tm = Template(tml)\n",
    "msg = tm.render()\n",
    "\n",
    "print(msg)"
   ]
  },
  {
   "cell_type": "code",
   "execution_count": 7,
   "metadata": {},
   "outputs": [
    {
     "name": "stdout",
     "output_type": "stream",
     "text": [
      "\n",
      "\n",
      " \n",
      "<ul>\n",
      "<li>Алексей \n",
      "    <ul>\n",
      "    <li>age: 18\n",
      "    <li>weight: 78.5\n",
      "    </ul>\n",
      "<li>Николай \n",
      "    <ul>\n",
      "    <li>age: 28\n",
      "    <li>weight: 82.3\n",
      "    </ul>\n",
      "<li>Иван \n",
      "    <ul>\n",
      "    <li>age: 33\n",
      "    <li>weight: 94.0\n",
      "    </ul>\n",
      "\n",
      "</ul>\n"
     ]
    }
   ],
   "source": [
    "from jinja2 import Template\n",
    "\n",
    "persons = [\n",
    "    {\"name\": \"Алексей\", \"old\": 18, \"weight\": 78.5},\n",
    "    {\"name\": \"Николай\", \"old\": 28, \"weight\": 82.3},\n",
    "    {\"name\": \"Иван\", \"old\": 33, \"weight\": 94.0}\n",
    "]\n",
    "\n",
    "html = '''\n",
    "{% macro list_users(list_of_user) -%}\n",
    "<ul>\n",
    "{% for u in list_of_user -%}\n",
    "    <li>{{u.name}} {{caller(u)}}\n",
    "{%- endfor %}\n",
    "</ul>\n",
    "{%- endmacro %}\n",
    " \n",
    "{% call(user) list_users(users) %}\n",
    "    <ul>\n",
    "    <li>age: {{user.old}}\n",
    "    <li>weight: {{user.weight}}\n",
    "    </ul>\n",
    "{% endcall -%}\n",
    "'''\n",
    " \n",
    "tm = Template(html)\n",
    "msg = tm.render(users = persons)\n",
    " \n",
    "print(msg)"
   ]
  },
  {
   "cell_type": "code",
   "execution_count": 9,
   "metadata": {},
   "outputs": [
    {
     "name": "stdout",
     "output_type": "stream",
     "text": [
      "<!DOCTYPE html>\n",
      "<html>\n",
      "<head>\n",
      "\t\t<meta charset=\"UTF-8\">\n",
      "         <base href=\"https://proproprogs.ru/\">\n",
      "         <title>Про программирование</title>\n",
      "</head>\n",
      "<body>\n",
      " \n",
      "<ul>\n",
      "<li>Алексей \n",
      "<li>Николай \n",
      "<li>Иван \n",
      "</ul>\n",
      " \n",
      "</body>\n",
      "</html>\n"
     ]
    }
   ],
   "source": [
    "from jinja2 import Environment, FileSystemLoader\n",
    " \n",
    "persons = [\n",
    "    {\"name\": \"Алексей\", \"old\": 18, \"weight\": 78.5},\n",
    "    {\"name\": \"Николай\", \"old\": 28, \"weight\": 82.3},\n",
    "    {\"name\": \"Иван\", \"old\": 33, \"weight\": 94.0}\n",
    "]\n",
    " \n",
    "file_loader = FileSystemLoader('templates')\n",
    "env = Environment(loader=file_loader)\n",
    " \n",
    "tm = env.get_template('main.html')\n",
    "msg = tm.render(users = persons)\n",
    " \n",
    "print(msg)"
   ]
  },
  {
   "cell_type": "code",
   "execution_count": 10,
   "metadata": {},
   "outputs": [
    {
     "name": "stdout",
     "output_type": "stream",
     "text": [
      "Имя Алексей, возраст 18\n"
     ]
    }
   ],
   "source": [
    "from jinja2 import Environment, FunctionLoader\n",
    " \n",
    "persons = [\n",
    "    {\"name\": \"Алексей\", \"old\": 18, \"weight\": 78.5},\n",
    "    {\"name\": \"Николай\", \"old\": 28, \"weight\": 82.3},\n",
    "    {\"name\": \"Иван\", \"old\": 33, \"weight\": 94.0}\n",
    "]\n",
    "\n",
    "def loadTpl(path):\n",
    "    if path == \"index\":\n",
    "        return '''Имя {{u.name}}, возраст {{u.old}}'''\n",
    "    else:\n",
    "        return '''Данные: {{u}}'''\n",
    "\n",
    "file_loader = FunctionLoader(loadTpl)\n",
    "env = Environment(loader=file_loader)\n",
    "tm = env.get_template('index')\n",
    "msg = tm.render(u = persons[0])\n",
    " \n",
    "print(msg)"
   ]
  },
  {
   "cell_type": "code",
   "execution_count": 16,
   "metadata": {},
   "outputs": [
    {
     "name": "stdout",
     "output_type": "stream",
     "text": [
      "<!DOCTYPE html>\n",
      "<html>\n",
      "<head>\n",
      "\t\t<meta charset=\"UTF-8\">\n",
      "         <base href=\"https://proproprogs.ru/\">\n",
      "         <title>Про программирование</title>\n",
      "</head>\n",
      "<body>\n",
      "\n",
      "Содержимое страницы\n",
      "<div class=\"dialog\">\n",
      "<p class=\"title\">Внимание</p>\n",
      "<p class=\"message\">Это тестовый диалог</p>\n",
      "<input type=\"button\" value=\"Закрыть\"></p>\n",
      "</div>\n",
      "</body>\n",
      "</html>\n"
     ]
    }
   ],
   "source": [
    "from jinja2 import Environment, FileSystemLoader\n",
    " \n",
    "persons = [\n",
    "    {\"name\": \"Алексей\", \"old\": 18, \"weight\": 78.5},\n",
    "    {\"name\": \"Николай\", \"old\": 28, \"weight\": 82.3},\n",
    "    {\"name\": \"Иван\", \"old\": 33, \"weight\": 94.0}\n",
    "]\n",
    " \n",
    "file_loader = FileSystemLoader('templates')\n",
    "env = Environment(loader=file_loader)\n",
    " \n",
    "tm = env.get_template('page.html')\n",
    "msg = tm.render(users = persons)\n",
    " \n",
    "print(msg)"
   ]
  },
  {
   "cell_type": "code",
   "execution_count": null,
   "metadata": {},
   "outputs": [],
   "source": []
  }
 ],
 "metadata": {
  "kernelspec": {
   "display_name": "Python 3.10.5 ('win_env': venv)",
   "language": "python",
   "name": "python3"
  },
  "language_info": {
   "codemirror_mode": {
    "name": "ipython",
    "version": 3
   },
   "file_extension": ".py",
   "mimetype": "text/x-python",
   "name": "python",
   "nbconvert_exporter": "python",
   "pygments_lexer": "ipython3",
   "version": "3.10.5"
  },
  "orig_nbformat": 4,
  "vscode": {
   "interpreter": {
    "hash": "eaa12891799934ffbfbfd953b31724034b90fac8773a1315d16c234a8009fb8f"
   }
  }
 },
 "nbformat": 4,
 "nbformat_minor": 2
}
