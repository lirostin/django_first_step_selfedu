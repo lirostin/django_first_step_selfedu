{
 "cells": [
  {
   "cell_type": "code",
   "execution_count": 1,
   "metadata": {},
   "outputs": [
    {
     "name": "stdout",
     "output_type": "stream",
     "text": [
      "Как дела Кирилл\n"
     ]
    }
   ],
   "source": [
    "from jinja2 import Template\n",
    "\n",
    "name = \"Кирилл\"\n",
    "\n",
    "tm = Template(\"Как дела {{  name  }}\")\n",
    "msg = tm.render(name=name)\n",
    "\n",
    "print(msg)"
   ]
  },
  {
   "cell_type": "code",
   "execution_count": 2,
   "metadata": {},
   "outputs": [
    {
     "name": "stdout",
     "output_type": "stream",
     "text": [
      "Мне 56 лет и зовут ФЕДОР.\n"
     ]
    }
   ],
   "source": [
    "name = \"Федор\"\n",
    "age = 28\n",
    "\n",
    "tm = Template(\"Мне {{a*2}} лет и зовут {{ n.upper() }}.\")\n",
    "msg = tm.render(a=age, n=name)\n",
    "\n",
    "print(msg)"
   ]
  },
  {
   "cell_type": "code",
   "execution_count": 4,
   "metadata": {},
   "outputs": [
    {
     "name": "stdout",
     "output_type": "stream",
     "text": [
      "Мне 31 лет и зовут Jon.\n"
     ]
    }
   ],
   "source": [
    "class Person:\n",
    "    def __init__(self, name, age):\n",
    "        self.name = name\n",
    "        self.age = age\n",
    "per = Person(\"Jon\", 31)\n",
    "tm = Template(\"Мне {{p.age}} лет и зовут {{ p.name }}.\")\n",
    "msg = tm.render(p=per)\n",
    "\n",
    "print(msg)"
   ]
  },
  {
   "cell_type": "code",
   "execution_count": 5,
   "metadata": {},
   "outputs": [
    {
     "name": "stdout",
     "output_type": "stream",
     "text": [
      "Мне 31 лет и зовут Jon.\n"
     ]
    }
   ],
   "source": [
    "class Person:\n",
    "    def __init__(self, name, age):\n",
    "        self.name = name\n",
    "        self.age = age\n",
    "    def getName(self):\n",
    "        return self.name\n",
    "    def getAge(self):\n",
    "        return self.age\n",
    "        \n",
    "per = Person(\"Jon\", 31)\n",
    "tm = Template(\"Мне {{p.getAge()}} лет и зовут {{ p.getName() }}.\")\n",
    "msg = tm.render(p=per)\n",
    "\n",
    "print(msg)"
   ]
  },
  {
   "cell_type": "code",
   "execution_count": 7,
   "metadata": {},
   "outputs": [
    {
     "name": "stdout",
     "output_type": "stream",
     "text": [
      "Мне 34 лет и зовут Федор.\n"
     ]
    }
   ],
   "source": [
    "per = { 'name': 'Федор', 'age': 34 }\n",
    "\n",
    "tm = Template(\"Мне {{p.age}} лет и зовут {{ p.name }}.\")\n",
    "msg = tm.render(p=per)\n",
    "\n",
    "print(msg)"
   ]
  }
 ],
 "metadata": {
  "kernelspec": {
   "display_name": "Python 3.10.4 ('lin_env': venv)",
   "language": "python",
   "name": "python3"
  },
  "language_info": {
   "codemirror_mode": {
    "name": "ipython",
    "version": 3
   },
   "file_extension": ".py",
   "mimetype": "text/x-python",
   "name": "python",
   "nbconvert_exporter": "python",
   "pygments_lexer": "ipython3",
   "version": "3.10.4"
  },
  "orig_nbformat": 4,
  "vscode": {
   "interpreter": {
    "hash": "bf2f956871f772862f6f883ad9accf2652af9e41387c904e5dcbe2122019d913"
   }
  }
 },
 "nbformat": 4,
 "nbformat_minor": 2
}
