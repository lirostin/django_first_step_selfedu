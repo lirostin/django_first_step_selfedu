{
 "cells": [
  {
   "cell_type": "markdown",
   "metadata": {},
   "source": [
    "## The setup\n",
    "\n",
    "Took it from [here](https://gist.github.com/codingforentrepreneurs/76e570d759f83d690bf36a8a8fa4cfbe#file-django_for_jupyter-py) with minor modifications."
   ]
  },
  {
   "cell_type": "code",
   "execution_count": 1,
   "metadata": {},
   "outputs": [
    {
     "ename": "ModuleNotFoundError",
     "evalue": "No module named 'django'",
     "output_type": "error",
     "traceback": [
      "\u001b[1;31m---------------------------------------------------------------------------\u001b[0m",
      "\u001b[1;31mModuleNotFoundError\u001b[0m                       Traceback (most recent call last)",
      "\u001b[1;32mc:\\Users\\liros\\YandexDisk\\GIT\\django_first_step_selfedu\\djsite\\orm_sandbox.ipynb Ячейка 2\u001b[0m in \u001b[0;36m<cell line: 2>\u001b[1;34m()\u001b[0m\n\u001b[0;32m      <a href='vscode-notebook-cell:/c%3A/Users/liros/YandexDisk/GIT/django_first_step_selfedu/djsite/orm_sandbox.ipynb#ch0000001?line=0'>1</a>\u001b[0m \u001b[39mfrom\u001b[39;00m \u001b[39mdjango_for_jupyter\u001b[39;00m \u001b[39mimport\u001b[39;00m init_django\n\u001b[1;32m----> <a href='vscode-notebook-cell:/c%3A/Users/liros/YandexDisk/GIT/django_first_step_selfedu/djsite/orm_sandbox.ipynb#ch0000001?line=1'>2</a>\u001b[0m init_django(\u001b[39m\"\u001b[39;49m\u001b[39mcoolsite\u001b[39;49m\u001b[39m\"\u001b[39;49m)\n",
      "File \u001b[1;32mc:\\Users\\liros\\YandexDisk\\GIT\\django_first_step_selfedu\\djsite\\django_for_jupyter.py:20\u001b[0m, in \u001b[0;36minit_django\u001b[1;34m(project_name)\u001b[0m\n\u001b[0;32m     18\u001b[0m os\u001b[39m.\u001b[39menviron\u001b[39m.\u001b[39msetdefault(\u001b[39m'\u001b[39m\u001b[39mDJANGO_SETTINGS_MODULE\u001b[39m\u001b[39m'\u001b[39m, \u001b[39mf\u001b[39m\u001b[39m'\u001b[39m\u001b[39m{\u001b[39;00mproject_name\u001b[39m}\u001b[39;00m\u001b[39m.settings\u001b[39m\u001b[39m'\u001b[39m)\n\u001b[0;32m     19\u001b[0m os\u001b[39m.\u001b[39menviron[\u001b[39m\"\u001b[39m\u001b[39mDJANGO_ALLOW_ASYNC_UNSAFE\u001b[39m\u001b[39m\"\u001b[39m] \u001b[39m=\u001b[39m \u001b[39m\"\u001b[39m\u001b[39mtrue\u001b[39m\u001b[39m\"\u001b[39m\n\u001b[1;32m---> 20\u001b[0m \u001b[39mimport\u001b[39;00m \u001b[39mdjango\u001b[39;00m\n\u001b[0;32m     21\u001b[0m django\u001b[39m.\u001b[39msetup()\n",
      "\u001b[1;31mModuleNotFoundError\u001b[0m: No module named 'django'"
     ]
    }
   ],
   "source": [
    "from django_for_jupyter import init_django\n",
    "init_django(\"coolsite\")\n"
   ]
  },
  {
   "cell_type": "markdown",
   "metadata": {},
   "source": [
    "## Initial imports"
   ]
  },
  {
   "cell_type": "code",
   "execution_count": 3,
   "metadata": {},
   "outputs": [
    {
     "ename": "ModuleNotFoundError",
     "evalue": "No module named 'django'",
     "output_type": "error",
     "traceback": [
      "\u001b[1;31m---------------------------------------------------------------------------\u001b[0m",
      "\u001b[1;31mModuleNotFoundError\u001b[0m                       Traceback (most recent call last)",
      "\u001b[1;32mc:\\Users\\liros\\YandexDisk\\GIT\\django_first_step_selfedu\\djsite\\coolsite\\orm_sandbox.ipynb Ячейка 4\u001b[0m in \u001b[0;36m<cell line: 1>\u001b[1;34m()\u001b[0m\n\u001b[1;32m----> <a href='vscode-notebook-cell:/c%3A/Users/liros/YandexDisk/GIT/django_first_step_selfedu/djsite/coolsite/orm_sandbox.ipynb#ch0000003?line=0'>1</a>\u001b[0m \u001b[39mfrom\u001b[39;00m \u001b[39mwomen\u001b[39;00m\u001b[39m.\u001b[39;00m\u001b[39mmodels\u001b[39;00m \u001b[39mimport\u001b[39;00m Women, Category\n\u001b[0;32m      <a href='vscode-notebook-cell:/c%3A/Users/liros/YandexDisk/GIT/django_first_step_selfedu/djsite/coolsite/orm_sandbox.ipynb#ch0000003?line=1'>2</a>\u001b[0m \u001b[39mfrom\u001b[39;00m \u001b[39mdjango\u001b[39;00m\u001b[39m.\u001b[39;00m\u001b[39mdb\u001b[39;00m \u001b[39mimport\u001b[39;00m connection\n",
      "File \u001b[1;32mc:\\Users\\liros\\YandexDisk\\GIT\\django_first_step_selfedu\\djsite\\coolsite\\women\\models.py:1\u001b[0m, in \u001b[0;36m<module>\u001b[1;34m\u001b[0m\n\u001b[1;32m----> 1\u001b[0m \u001b[39mfrom\u001b[39;00m \u001b[39mdjango\u001b[39;00m\u001b[39m.\u001b[39;00m\u001b[39mdb\u001b[39;00m \u001b[39mimport\u001b[39;00m models\n\u001b[0;32m      3\u001b[0m \u001b[39m# Create your models here.\u001b[39;00m\n\u001b[0;32m      4\u001b[0m \u001b[39mclass\u001b[39;00m \u001b[39mWomen\u001b[39;00m(models\u001b[39m.\u001b[39mModel):\n",
      "\u001b[1;31mModuleNotFoundError\u001b[0m: No module named 'django'"
     ]
    }
   ],
   "source": [
    "from women.models import Women, Category\n",
    "from django.db import connection"
   ]
  },
  {
   "cell_type": "markdown",
   "metadata": {},
   "source": [
    "## Auxiliary tools"
   ]
  },
  {
   "cell_type": "code",
   "execution_count": 117,
   "metadata": {},
   "outputs": [
    {
     "data": {
      "text/plain": [
       "[]"
      ]
     },
     "execution_count": 117,
     "metadata": {},
     "output_type": "execute_result"
    }
   ],
   "source": [
    "connection.queries[-5:] # return the list of string queries generated in the current session"
   ]
  },
  {
   "cell_type": "code",
   "execution_count": 116,
   "metadata": {},
   "outputs": [],
   "source": [
    "# to clean up connection.queries use this:\n",
    "from django.db import reset_queries\n",
    "reset_queries()"
   ]
  },
  {
   "cell_type": "markdown",
   "metadata": {},
   "source": [
    "# Simple `SELECT` variations"
   ]
  },
  {
   "cell_type": "code",
   "execution_count": 44,
   "metadata": {},
   "outputs": [
    {
     "data": {
      "text/plain": [
       "<QuerySet [<Women: Анджелина Джоли>, <Women: Марго Робби>, <Women: Джулия Робертс>, <Women: Деннифер Лоуренс>, <Women: Ума Турман>, <Women: Кристи́на Кляйн>, <Women: Dolores O'Riordan>]>"
      ]
     },
     "execution_count": 44,
     "metadata": {},
     "output_type": "execute_result"
    }
   ],
   "source": [
    "Women.objects.all() # SELECT * FROM Women_Women\n"
   ]
  }
 ],
 "metadata": {
  "kernelspec": {
   "display_name": "Python 3.10.5 64-bit",
   "language": "python",
   "name": "python3"
  },
  "language_info": {
   "codemirror_mode": {
    "name": "ipython",
    "version": 3
   },
   "file_extension": ".py",
   "mimetype": "text/x-python",
   "name": "python",
   "nbconvert_exporter": "python",
   "pygments_lexer": "ipython3",
   "version": "3.10.5"
  },
  "orig_nbformat": 4,
  "vscode": {
   "interpreter": {
    "hash": "d40dc84bac016c4df82d99ae09889c67c16f01b37eba5866564a90a028c14ae7"
   }
  }
 },
 "nbformat": 4,
 "nbformat_minor": 2
}
